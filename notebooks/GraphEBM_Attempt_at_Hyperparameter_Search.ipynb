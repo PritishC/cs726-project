{
  "cells": [
    {
      "cell_type": "code",
      "source": [
        "!{sys.executable} -c \"import torch; print(torch.__version__)\"\n",
        "!{sys.executable} -c \"import torch; print(torch.version.cuda)\""
      ],
      "metadata": {
        "colab": {
          "base_uri": "https://localhost:8080/"
        },
        "id": "-D_JZqI7ab-v",
        "outputId": "3dc43cfe-b9eb-4332-d811-c2591a66cdc7"
      },
      "id": "-D_JZqI7ab-v",
      "execution_count": null,
      "outputs": [
        {
          "output_type": "stream",
          "name": "stdout",
          "text": [
            "1.10.0+cu111\n",
            "11.1\n"
          ]
        }
      ]
    },
    {
      "cell_type": "code",
      "source": [
        "import sys\n",
        "\n",
        "!{sys.executable} -m pip install -q networkx ipdb scipy cilog typed-argument-parser==1.5.4 captum==0.2.0 shap ipython tqdm rdkit-pypi pandas sympy hydra-core\n",
        "!{sys.executable} -m pip install -q dive-into-graphs\n",
        "!{sys.executable} -m pip install -q torch-scatter -f https://pytorch-geometric.com/whl/torch-1.10.0+cu111.html\n",
        "!{sys.executable} -m pip install -q torch-sparse -f https://pytorch-geometric.com/whl/torch-1.10.0+cu111.html\n",
        "!{sys.executable} -m pip install -q torch-geometric"
      ],
      "metadata": {
        "colab": {
          "base_uri": "https://localhost:8080/"
        },
        "id": "s8rW0EXoXLVB",
        "outputId": "c9e5318a-b596-4e1a-92c9-9ff61e1f1ba0"
      },
      "id": "s8rW0EXoXLVB",
      "execution_count": null,
      "outputs": [
        {
          "output_type": "stream",
          "name": "stdout",
          "text": [
            "\u001b[K     |████████████████████████████████| 1.4 MB 24.2 MB/s \n",
            "\u001b[K     |████████████████████████████████| 564 kB 59.0 MB/s \n",
            "\u001b[K     |████████████████████████████████| 22.3 MB 33.0 MB/s \n",
            "\u001b[K     |████████████████████████████████| 145 kB 83.9 MB/s \n",
            "\u001b[K     |████████████████████████████████| 793 kB 68.0 MB/s \n",
            "\u001b[K     |████████████████████████████████| 380 kB 58.1 MB/s \n",
            "\u001b[K     |████████████████████████████████| 112 kB 86.9 MB/s \n",
            "\u001b[K     |████████████████████████████████| 74 kB 4.1 MB/s \n",
            "\u001b[K     |████████████████████████████████| 596 kB 73.4 MB/s \n",
            "\u001b[?25h  Building wheel for typed-argument-parser (setup.py) ... \u001b[?25l\u001b[?25hdone\n",
            "  Building wheel for ipdb (setup.py) ... \u001b[?25l\u001b[?25hdone\n",
            "  Building wheel for antlr4-python3-runtime (setup.py) ... \u001b[?25l\u001b[?25hdone\n",
            "\u001b[31mERROR: pip's dependency resolver does not currently take into account all the packages that are installed. This behaviour is the source of the following dependency conflicts.\n",
            "jupyter-console 5.2.0 requires prompt-toolkit<2.0.0,>=1.0.0, but you have prompt-toolkit 3.0.28 which is incompatible.\n",
            "google-colab 1.0.0 requires ipython~=5.5.0, but you have ipython 7.32.0 which is incompatible.\u001b[0m\n",
            "\u001b[K     |████████████████████████████████| 4.1 MB 13.2 MB/s \n",
            "\u001b[K     |████████████████████████████████| 7.9 MB 4.6 MB/s \n",
            "\u001b[K     |████████████████████████████████| 3.5 MB 4.5 MB/s \n",
            "\u001b[K     |████████████████████████████████| 407 kB 14.2 MB/s \n",
            "\u001b[?25h  Building wheel for torch-geometric (setup.py) ... \u001b[?25l\u001b[?25hdone\n"
          ]
        }
      ]
    },
    {
      "cell_type": "code",
      "execution_count": null,
      "id": "2f55b906-5ace-4bcb-bd6a-bc4720554847",
      "metadata": {
        "id": "2f55b906-5ace-4bcb-bd6a-bc4720554847"
      },
      "outputs": [],
      "source": [
        "import os\n",
        "import torch\n",
        "from torch_geometric.data import DenseDataLoader\n",
        "from rdkit import RDLogger\n",
        "\n",
        "from dig.ggraph.dataset import QM9, ZINC250k\n",
        "from dig.ggraph.method import GraphEBM\n",
        "from dig.ggraph.evaluation import RandGenEvaluator"
      ]
    },
    {
      "cell_type": "code",
      "execution_count": null,
      "id": "fe120e15-5bf8-42eb-addb-8e9c35eb8175",
      "metadata": {
        "id": "fe120e15-5bf8-42eb-addb-8e9c35eb8175"
      },
      "outputs": [],
      "source": [
        "device = torch.device('cuda:0')"
      ]
    },
    {
      "cell_type": "code",
      "execution_count": null,
      "id": "24db36ca-c456-4bf4-9218-3ffeae1270f9",
      "metadata": {
        "colab": {
          "base_uri": "https://localhost:8080/"
        },
        "id": "24db36ca-c456-4bf4-9218-3ffeae1270f9",
        "outputId": "43976362-3ddd-4a68-c0f7-215f24f055b3"
      },
      "outputs": [
        {
          "output_type": "stream",
          "name": "stdout",
          "text": [
            "making raw files: ./raw\n"
          ]
        },
        {
          "output_type": "stream",
          "name": "stderr",
          "text": [
            "Downloading https://raw.githubusercontent.com/divelab/DIG_storage/main/ggraph/zinc250k_property.csv\n"
          ]
        },
        {
          "output_type": "stream",
          "name": "stdout",
          "text": [
            "Processing...\n",
            "making processed files: ./zinc250k_property/processed_oneshot\n",
            "Done!\n"
          ]
        },
        {
          "output_type": "stream",
          "name": "stderr",
          "text": [
            "/usr/local/lib/python3.7/dist-packages/torch_geometric/deprecation.py:12: UserWarning: 'data.DenseDataLoader' is deprecated, use 'loader.DenseDataLoader' instead\n",
            "  warnings.warn(out)\n"
          ]
        }
      ],
      "source": [
        "dataset = ZINC250k(one_shot=True, root='./')\n",
        "splits = dataset.get_split_idx()\n",
        "train_set = dataset[splits['train_idx']]\n",
        "train_dataloader = DenseDataLoader(train_set, batch_size=128, shuffle=True, num_workers=0)"
      ]
    },
    {
      "cell_type": "code",
      "execution_count": null,
      "id": "6b8fe20d-1b94-49a7-a02f-862c3d23b64f",
      "metadata": {
        "id": "6b8fe20d-1b94-49a7-a02f-862c3d23b64f"
      },
      "outputs": [],
      "source": [
        "graphebm = GraphEBM(n_atom=38, n_atom_type=10, n_edge_type=4, hidden=64, device=device)"
      ]
    },
    {
      "cell_type": "code",
      "source": [
        "graphebm.train_rand_gen(train_dataloader, lr=1e-4, wd=0, max_epochs=20, c=0, ld_step=150, ld_noise=0.005, ld_step_size=30, clamp=True, alpha=1, save_interval=1, save_dir='./checkpoints')"
      ],
      "metadata": {
        "colab": {
          "base_uri": "https://localhost:8080/"
        },
        "id": "6uPiF_E-fAIb",
        "outputId": "7ea21d35-c930-4a15-b9cc-455a25dcb77f"
      },
      "id": "6uPiF_E-fAIb",
      "execution_count": null,
      "outputs": [
        {
          "metadata": {
            "tags": null
          },
          "name": "stderr",
          "output_type": "stream",
          "text": [
            "100%|██████████| 1755/1755 [18:38<00:00,  1.57it/s]\n"
          ]
        },
        {
          "metadata": {
            "tags": null
          },
          "name": "stdout",
          "output_type": "stream",
          "text": [
            "Saving checkpoint at epoch  1\n",
            "==========================================\n",
            "Epoch: 001, Loss: 440.979309, Energy Loss: -1.143910, Regularizer Loss: 442.122711, Sec/Epoch: 1118.89\n",
            "==========================================\n"
          ]
        },
        {
          "metadata": {
            "tags": null
          },
          "name": "stderr",
          "output_type": "stream",
          "text": [
            "100%|██████████| 1755/1755 [18:54<00:00,  1.55it/s]\n"
          ]
        },
        {
          "metadata": {
            "tags": null
          },
          "name": "stdout",
          "output_type": "stream",
          "text": [
            "Saving checkpoint at epoch  2\n",
            "==========================================\n",
            "Epoch: 002, Loss: -0.411107, Energy Loss: -0.700628, Regularizer Loss: 0.289521, Sec/Epoch: 1134.49\n",
            "==========================================\n"
          ]
        },
        {
          "metadata": {
            "tags": null
          },
          "name": "stderr",
          "output_type": "stream",
          "text": [
            "100%|██████████| 1755/1755 [19:19<00:00,  1.51it/s]\n"
          ]
        },
        {
          "metadata": {
            "tags": null
          },
          "name": "stdout",
          "output_type": "stream",
          "text": [
            "Saving checkpoint at epoch  3\n",
            "==========================================\n",
            "Epoch: 003, Loss: 103545.593750, Energy Loss: -13.046057, Regularizer Loss: 103558.632812, Sec/Epoch: 1159.31\n",
            "==========================================\n"
          ]
        },
        {
          "metadata": {
            "tags": null
          },
          "name": "stderr",
          "output_type": "stream",
          "text": [
            "100%|██████████| 1755/1755 [18:47<00:00,  1.56it/s]\n"
          ]
        },
        {
          "metadata": {
            "tags": null
          },
          "name": "stdout",
          "output_type": "stream",
          "text": [
            "Saving checkpoint at epoch  4\n",
            "==========================================\n",
            "Epoch: 004, Loss: -0.495384, Energy Loss: -0.935826, Regularizer Loss: 0.440442, Sec/Epoch: 1127.39\n",
            "==========================================\n"
          ]
        },
        {
          "metadata": {
            "tags": null
          },
          "name": "stderr",
          "output_type": "stream",
          "text": [
            "100%|██████████| 1755/1755 [18:19<00:00,  1.60it/s]\n"
          ]
        },
        {
          "metadata": {
            "tags": null
          },
          "name": "stdout",
          "output_type": "stream",
          "text": [
            "Saving checkpoint at epoch  5\n",
            "==========================================\n",
            "Epoch: 005, Loss: -0.499718, Energy Loss: -0.988468, Regularizer Loss: 0.488750, Sec/Epoch: 1099.77\n",
            "==========================================\n"
          ]
        },
        {
          "metadata": {
            "tags": null
          },
          "name": "stderr",
          "output_type": "stream",
          "text": [
            "100%|██████████| 1755/1755 [18:44<00:00,  1.56it/s]\n"
          ]
        },
        {
          "metadata": {
            "tags": null
          },
          "name": "stdout",
          "output_type": "stream",
          "text": [
            "Saving checkpoint at epoch  6\n",
            "==========================================\n",
            "Epoch: 006, Loss: -0.499933, Energy Loss: -0.999505, Regularizer Loss: 0.499568, Sec/Epoch: 1124.76\n",
            "==========================================\n"
          ]
        },
        {
          "metadata": {
            "tags": null
          },
          "name": "stderr",
          "output_type": "stream",
          "text": [
            "100%|██████████| 1755/1755 [18:06<00:00,  1.62it/s]\n"
          ]
        },
        {
          "metadata": {
            "tags": null
          },
          "name": "stdout",
          "output_type": "stream",
          "text": [
            "Saving checkpoint at epoch  7\n",
            "==========================================\n",
            "Epoch: 007, Loss: -0.499976, Energy Loss: -0.999914, Regularizer Loss: 0.499943, Sec/Epoch: 1086.57\n",
            "==========================================\n"
          ]
        },
        {
          "metadata": {
            "tags": null
          },
          "name": "stderr",
          "output_type": "stream",
          "text": [
            "100%|██████████| 1755/1755 [17:59<00:00,  1.63it/s]\n"
          ]
        },
        {
          "metadata": {
            "tags": null
          },
          "name": "stdout",
          "output_type": "stream",
          "text": [
            "Saving checkpoint at epoch  8\n",
            "==========================================\n",
            "Epoch: 008, Loss: -0.499959, Energy Loss: -0.999955, Regularizer Loss: 0.499997, Sec/Epoch: 1079.96\n",
            "==========================================\n"
          ]
        },
        {
          "metadata": {
            "tags": null
          },
          "name": "stderr",
          "output_type": "stream",
          "text": [
            "100%|██████████| 1755/1755 [18:08<00:00,  1.61it/s]\n"
          ]
        },
        {
          "metadata": {
            "tags": null
          },
          "name": "stdout",
          "output_type": "stream",
          "text": [
            "Saving checkpoint at epoch  9\n",
            "==========================================\n",
            "Epoch: 009, Loss: -0.499934, Energy Loss: -0.999950, Regularizer Loss: 0.500016, Sec/Epoch: 1088.34\n",
            "==========================================\n"
          ]
        },
        {
          "metadata": {
            "tags": null
          },
          "name": "stderr",
          "output_type": "stream",
          "text": [
            "100%|██████████| 1755/1755 [18:04<00:00,  1.62it/s]\n"
          ]
        },
        {
          "metadata": {
            "tags": null
          },
          "name": "stdout",
          "output_type": "stream",
          "text": [
            "Saving checkpoint at epoch  10\n",
            "==========================================\n",
            "Epoch: 010, Loss: -0.499929, Energy Loss: -0.999951, Regularizer Loss: 0.500024, Sec/Epoch: 1084.48\n",
            "==========================================\n"
          ]
        },
        {
          "metadata": {
            "tags": null
          },
          "name": "stderr",
          "output_type": "stream",
          "text": [
            "100%|██████████| 1755/1755 [18:02<00:00,  1.62it/s]\n"
          ]
        },
        {
          "metadata": {
            "tags": null
          },
          "name": "stdout",
          "output_type": "stream",
          "text": [
            "Saving checkpoint at epoch  11\n",
            "==========================================\n",
            "Epoch: 011, Loss: -0.499929, Energy Loss: -0.999950, Regularizer Loss: 0.500022, Sec/Epoch: 1082.56\n",
            "==========================================\n"
          ]
        },
        {
          "metadata": {
            "tags": null
          },
          "name": "stderr",
          "output_type": "stream",
          "text": [
            "100%|██████████| 1755/1755 [18:01<00:00,  1.62it/s]\n"
          ]
        },
        {
          "metadata": {
            "tags": null
          },
          "name": "stdout",
          "output_type": "stream",
          "text": [
            "Saving checkpoint at epoch  12\n",
            "==========================================\n",
            "Epoch: 012, Loss: -0.499934, Energy Loss: -0.999954, Regularizer Loss: 0.500022, Sec/Epoch: 1082.01\n",
            "==========================================\n"
          ]
        },
        {
          "metadata": {
            "tags": null
          },
          "name": "stderr",
          "output_type": "stream",
          "text": [
            "100%|██████████| 1755/1755 [18:00<00:00,  1.62it/s]\n"
          ]
        },
        {
          "metadata": {
            "tags": null
          },
          "name": "stdout",
          "output_type": "stream",
          "text": [
            "Saving checkpoint at epoch  13\n",
            "==========================================\n",
            "Epoch: 013, Loss: -0.499944, Energy Loss: -0.999969, Regularizer Loss: 0.500028, Sec/Epoch: 1080.91\n",
            "==========================================\n"
          ]
        },
        {
          "output_type": "stream",
          "name": "stderr",
          "text": [
            "100%|██████████| 1755/1755 [17:57<00:00,  1.63it/s]\n"
          ]
        },
        {
          "output_type": "stream",
          "name": "stdout",
          "text": [
            "Saving checkpoint at epoch  14\n",
            "==========================================\n",
            "Epoch: 014, Loss: -0.499944, Energy Loss: -0.999958, Regularizer Loss: 0.500017, Sec/Epoch: 1077.67\n",
            "==========================================\n"
          ]
        },
        {
          "output_type": "stream",
          "name": "stderr",
          "text": [
            "100%|██████████| 1755/1755 [17:56<00:00,  1.63it/s]\n"
          ]
        },
        {
          "output_type": "stream",
          "name": "stdout",
          "text": [
            "Saving checkpoint at epoch  15\n",
            "==========================================\n",
            "Epoch: 015, Loss: -0.499942, Energy Loss: -0.999962, Regularizer Loss: 0.500019, Sec/Epoch: 1076.85\n",
            "==========================================\n"
          ]
        },
        {
          "output_type": "stream",
          "name": "stderr",
          "text": [
            "100%|██████████| 1755/1755 [17:55<00:00,  1.63it/s]\n"
          ]
        },
        {
          "output_type": "stream",
          "name": "stdout",
          "text": [
            "Saving checkpoint at epoch  16\n",
            "==========================================\n",
            "Epoch: 016, Loss: -0.499948, Energy Loss: -0.999965, Regularizer Loss: 0.500019, Sec/Epoch: 1075.48\n",
            "==========================================\n"
          ]
        },
        {
          "output_type": "stream",
          "name": "stderr",
          "text": [
            "100%|██████████| 1755/1755 [17:58<00:00,  1.63it/s]\n"
          ]
        },
        {
          "output_type": "stream",
          "name": "stdout",
          "text": [
            "Saving checkpoint at epoch  17\n",
            "==========================================\n",
            "Epoch: 017, Loss: -0.499953, Energy Loss: -0.999967, Regularizer Loss: 0.500015, Sec/Epoch: 1079.10\n",
            "==========================================\n"
          ]
        },
        {
          "output_type": "stream",
          "name": "stderr",
          "text": [
            "100%|██████████| 1755/1755 [17:54<00:00,  1.63it/s]\n"
          ]
        },
        {
          "output_type": "stream",
          "name": "stdout",
          "text": [
            "Saving checkpoint at epoch  18\n",
            "==========================================\n",
            "Epoch: 018, Loss: 1096680.000000, Energy Loss: -25.442360, Regularizer Loss: 1096704.625000, Sec/Epoch: 1074.78\n",
            "==========================================\n"
          ]
        },
        {
          "output_type": "stream",
          "name": "stderr",
          "text": [
            "100%|██████████| 1755/1755 [17:54<00:00,  1.63it/s]\n"
          ]
        },
        {
          "output_type": "stream",
          "name": "stdout",
          "text": [
            "Saving checkpoint at epoch  19\n",
            "==========================================\n",
            "Epoch: 019, Loss: -0.499974, Energy Loss: -0.999980, Regularizer Loss: 0.500009, Sec/Epoch: 1074.97\n",
            "==========================================\n"
          ]
        },
        {
          "output_type": "stream",
          "name": "stderr",
          "text": [
            "100%|██████████| 1755/1755 [17:50<00:00,  1.64it/s]"
          ]
        },
        {
          "output_type": "stream",
          "name": "stdout",
          "text": [
            "Saving checkpoint at epoch  20\n",
            "==========================================\n",
            "Epoch: 020, Loss: -0.499966, Energy Loss: -0.999983, Regularizer Loss: 0.500019, Sec/Epoch: 1070.79\n",
            "==========================================\n"
          ]
        },
        {
          "output_type": "stream",
          "name": "stderr",
          "text": [
            "\n"
          ]
        }
      ]
    },
    {
      "cell_type": "code",
      "source": [
        "### Ignore info output by RDKit\n",
        "RDLogger.DisableLog('rdApp.error') \n",
        "RDLogger.DisableLog('rdApp.warning')\n",
        "\n",
        "atomic_num_list = dataset.atom_list  # [6, 7, 8, 9, 15, 16, 17, 35, 53, 0] for ZINC250k\n",
        "#gen_mols = graphebm.run_rand_gen(checkpoint_path='./GraphEBM_zinc250k_uncond.pt', n_samples=10000, c=0, ld_step=150, ld_noise=0.005, ld_step_size=30, clamp=True, atomic_num_list=atomic_num_list)\n",
        "gen_mols = graphebm.run_rand_gen(checkpoint_path='./checkpoints/epoch_20.pt', n_samples=10000, c=0, ld_step=150, ld_noise=0.005, ld_step_size=30, clamp=True, atomic_num_list=atomic_num_list)"
      ],
      "metadata": {
        "colab": {
          "base_uri": "https://localhost:8080/"
        },
        "id": "Uuu14pDRfB3W",
        "outputId": "46b7d447-e669-493a-ab00-11c447e1b1e5"
      },
      "id": "Uuu14pDRfB3W",
      "execution_count": null,
      "outputs": [
        {
          "output_type": "stream",
          "name": "stdout",
          "text": [
            "Loading paramaters from ./checkpoints/epoch_20.pt\n",
            "Initializing samples...\n",
            "Generating samples...\n"
          ]
        }
      ]
    },
    {
      "cell_type": "code",
      "source": [
        "train_smiles = [data.smile for data in dataset[splits['train_idx']]]\n",
        "res_dict = {'mols':gen_mols, 'train_smiles': train_smiles}\n",
        "evaluator = RandGenEvaluator()\n",
        "results = evaluator.eval(res_dict)\n",
        "print(results)"
      ],
      "metadata": {
        "colab": {
          "base_uri": "https://localhost:8080/"
        },
        "id": "PksyqfeufFCf",
        "outputId": "ef8946e2-1418-498e-f74b-70e010aaba12"
      },
      "id": "PksyqfeufFCf",
      "execution_count": null,
      "outputs": [
        {
          "output_type": "stream",
          "name": "stdout",
          "text": [
            "Valid Ratio: 10000/10000 = 100.00%\n",
            "Unique Ratio: 1/10000 = 0.01%\n",
            "Novel Ratio: 10000/10000 = 100.00%\n",
            "{'valid_ratio': 100.0, 'unique_ratio': 0.01, 'novel_ratio': 100.0}\n"
          ]
        }
      ]
    }
  ],
  "metadata": {
    "kernelspec": {
      "display_name": "Python 3 (ipykernel)",
      "language": "python",
      "name": "python3"
    },
    "language_info": {
      "codemirror_mode": {
        "name": "ipython",
        "version": 3
      },
      "file_extension": ".py",
      "mimetype": "text/x-python",
      "name": "python",
      "nbconvert_exporter": "python",
      "pygments_lexer": "ipython3",
      "version": "3.9.0"
    },
    "colab": {
      "name": "GraphEBM: Attempt at Hyperparameter Search.ipynb",
      "provenance": [],
      "collapsed_sections": [],
      "machine_shape": "hm"
    },
    "accelerator": "GPU"
  },
  "nbformat": 4,
  "nbformat_minor": 5
}