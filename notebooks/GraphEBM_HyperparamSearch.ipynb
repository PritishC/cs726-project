{
 "cells": [
  {
   "cell_type": "code",
   "execution_count": 1,
   "id": "-D_JZqI7ab-v",
   "metadata": {
    "colab": {
     "base_uri": "https://localhost:8080/"
    },
    "id": "-D_JZqI7ab-v",
    "outputId": "3dc43cfe-b9eb-4332-d811-c2591a66cdc7"
   },
   "outputs": [
    {
     "name": "stdout",
     "output_type": "stream",
     "text": [
      "1.11.0+cu102\n",
      "10.2\n"
     ]
    }
   ],
   "source": [
    "import sys\n",
    "\n",
    "!{sys.executable} -c \"import torch; print(torch.__version__)\"\n",
    "!{sys.executable} -c \"import torch; print(torch.version.cuda)\""
   ]
  },
  {
   "cell_type": "code",
   "execution_count": null,
   "id": "s8rW0EXoXLVB",
   "metadata": {
    "colab": {
     "base_uri": "https://localhost:8080/"
    },
    "id": "s8rW0EXoXLVB",
    "outputId": "c9e5318a-b596-4e1a-92c9-9ff61e1f1ba0"
   },
   "outputs": [],
   "source": [
    "import sys\n",
    "\n",
    "!{sys.executable} -m pip install -q networkx ipdb scipy cilog typed-argument-parser==1.5.4 captum==0.2.0 shap ipython tqdm rdkit-pypi pandas sympy hydra-core\n",
    "!{sys.executable} -m pip install -q dive-into-graphs\n",
    "!{sys.executable} -m pip install -q torch-scatter -f https://pytorch-geometric.com/whl/torch-1.10.0+cu111.html\n",
    "!{sys.executable} -m pip install -q torch-sparse -f https://pytorch-geometric.com/whl/torch-1.10.0+cu111.html\n",
    "!{sys.executable} -m pip install -q torch-geometric"
   ]
  },
  {
   "cell_type": "code",
   "execution_count": 2,
   "id": "2f55b906-5ace-4bcb-bd6a-bc4720554847",
   "metadata": {
    "id": "2f55b906-5ace-4bcb-bd6a-bc4720554847"
   },
   "outputs": [
    {
     "name": "stderr",
     "output_type": "stream",
     "text": [
      "/mnt/infonas/data/pritish/virtualenvs/bee/lib/python3.8/site-packages/tqdm/auto.py:22: TqdmWarning: IProgress not found. Please update jupyter and ipywidgets. See https://ipywidgets.readthedocs.io/en/stable/user_install.html\n",
      "  from .autonotebook import tqdm as notebook_tqdm\n"
     ]
    }
   ],
   "source": [
    "import os\n",
    "import torch\n",
    "from torch_geometric.data import DenseDataLoader\n",
    "from rdkit import RDLogger\n",
    "\n",
    "from dig.ggraph.dataset import QM9, ZINC250k\n",
    "from dig.ggraph.method import GraphEBM\n",
    "from dig.ggraph.evaluation import RandGenEvaluator"
   ]
  },
  {
   "cell_type": "code",
   "execution_count": 3,
   "id": "fe120e15-5bf8-42eb-addb-8e9c35eb8175",
   "metadata": {
    "id": "fe120e15-5bf8-42eb-addb-8e9c35eb8175"
   },
   "outputs": [],
   "source": [
    "device = torch.device('cuda:2')"
   ]
  },
  {
   "cell_type": "code",
   "execution_count": 4,
   "id": "fef4fe8c-c4ef-451e-b75e-7699cc365501",
   "metadata": {},
   "outputs": [],
   "source": [
    "DATA_PATH = f'/mnt/infonas/data/pritish/cs726'"
   ]
  },
  {
   "cell_type": "code",
   "execution_count": 5,
   "id": "24db36ca-c456-4bf4-9218-3ffeae1270f9",
   "metadata": {
    "colab": {
     "base_uri": "https://localhost:8080/"
    },
    "id": "24db36ca-c456-4bf4-9218-3ffeae1270f9",
    "outputId": "43976362-3ddd-4a68-c0f7-215f24f055b3"
   },
   "outputs": [
    {
     "name": "stderr",
     "output_type": "stream",
     "text": [
      "/mnt/infonas/data/pritish/virtualenvs/bee/lib/python3.8/site-packages/torch_geometric/deprecation.py:12: UserWarning: 'data.DenseDataLoader' is deprecated, use 'loader.DenseDataLoader' instead\n",
      "  warnings.warn(out)\n"
     ]
    }
   ],
   "source": [
    "dataset = ZINC250k(one_shot=True, root=DATA_PATH)\n",
    "splits = dataset.get_split_idx()\n",
    "train_set = dataset[splits['train_idx']]\n",
    "train_dataloader = DenseDataLoader(train_set, batch_size=8192, shuffle=True, num_workers=0)"
   ]
  },
  {
   "cell_type": "code",
   "execution_count": 6,
   "id": "6b8fe20d-1b94-49a7-a02f-862c3d23b64f",
   "metadata": {
    "id": "6b8fe20d-1b94-49a7-a02f-862c3d23b64f"
   },
   "outputs": [
    {
     "name": "stderr",
     "output_type": "stream",
     "text": [
      "/mnt/infonas/data/pritish/virtualenvs/bee/lib/python3.8/site-packages/torch/cuda/__init__.py:145: UserWarning: \n",
      "NVIDIA RTX A6000 with CUDA capability sm_86 is not compatible with the current PyTorch installation.\n",
      "The current PyTorch install supports CUDA capabilities sm_37 sm_50 sm_60 sm_70.\n",
      "If you want to use the NVIDIA RTX A6000 GPU with PyTorch, please check the instructions at https://pytorch.org/get-started/locally/\n",
      "\n",
      "  warnings.warn(incompatible_device_warn.format(device_name, capability, \" \".join(arch_list), device_name))\n"
     ]
    }
   ],
   "source": [
    "graphebm = GraphEBM(n_atom=38, n_atom_type=10, n_edge_type=4, hidden=64, device=device)"
   ]
  },
  {
   "cell_type": "code",
   "execution_count": 7,
   "id": "6uPiF_E-fAIb",
   "metadata": {
    "colab": {
     "base_uri": "https://localhost:8080/"
    },
    "id": "6uPiF_E-fAIb",
    "outputId": "7ea21d35-c930-4a15-b9cc-455a25dcb77f"
   },
   "outputs": [
    {
     "name": "stderr",
     "output_type": "stream",
     "text": [
      "100%|█████████████████████████████████████████████████████████████████████████████████████████████████████████████████████████| 28/28 [05:29<00:00, 11.76s/it]\n"
     ]
    },
    {
     "name": "stdout",
     "output_type": "stream",
     "text": [
      "Saving checkpoint at epoch  1\n",
      "==========================================\n",
      "Epoch: 001, Loss: 104.386833, Energy Loss: -3.000694, Regularizer Loss: 107.387550, Sec/Epoch: 329.33\n",
      "==========================================\n"
     ]
    },
    {
     "name": "stderr",
     "output_type": "stream",
     "text": [
      "100%|█████████████████████████████████████████████████████████████████████████████████████████████████████████████████████████| 28/28 [06:02<00:00, 12.96s/it]\n"
     ]
    },
    {
     "name": "stdout",
     "output_type": "stream",
     "text": [
      "Saving checkpoint at epoch  2\n",
      "==========================================\n",
      "Epoch: 002, Loss: -0.020114, Energy Loss: -0.039366, Regularizer Loss: 0.019252, Sec/Epoch: 362.99\n",
      "==========================================\n"
     ]
    },
    {
     "name": "stderr",
     "output_type": "stream",
     "text": [
      "100%|█████████████████████████████████████████████████████████████████████████████████████████████████████████████████████████| 28/28 [06:08<00:00, 13.16s/it]\n"
     ]
    },
    {
     "name": "stdout",
     "output_type": "stream",
     "text": [
      "Saving checkpoint at epoch  3\n",
      "==========================================\n",
      "Epoch: 003, Loss: -0.022889, Energy Loss: -0.042578, Regularizer Loss: 0.019689, Sec/Epoch: 368.41\n",
      "==========================================\n"
     ]
    },
    {
     "name": "stderr",
     "output_type": "stream",
     "text": [
      "100%|█████████████████████████████████████████████████████████████████████████████████████████████████████████████████████████| 28/28 [05:51<00:00, 12.56s/it]\n"
     ]
    },
    {
     "name": "stdout",
     "output_type": "stream",
     "text": [
      "Saving checkpoint at epoch  4\n",
      "==========================================\n",
      "Epoch: 004, Loss: -0.026326, Energy Loss: -0.046586, Regularizer Loss: 0.020260, Sec/Epoch: 351.61\n",
      "==========================================\n"
     ]
    },
    {
     "name": "stderr",
     "output_type": "stream",
     "text": [
      "100%|█████████████████████████████████████████████████████████████████████████████████████████████████████████████████████████| 28/28 [05:26<00:00, 11.66s/it]\n"
     ]
    },
    {
     "name": "stdout",
     "output_type": "stream",
     "text": [
      "Saving checkpoint at epoch  5\n",
      "==========================================\n",
      "Epoch: 005, Loss: -0.030345, Energy Loss: -0.051317, Regularizer Loss: 0.020972, Sec/Epoch: 326.43\n",
      "==========================================\n"
     ]
    },
    {
     "name": "stderr",
     "output_type": "stream",
     "text": [
      "100%|█████████████████████████████████████████████████████████████████████████████████████████████████████████████████████████| 28/28 [05:37<00:00, 12.06s/it]\n"
     ]
    },
    {
     "name": "stdout",
     "output_type": "stream",
     "text": [
      "Saving checkpoint at epoch  6\n",
      "==========================================\n",
      "Epoch: 006, Loss: -0.034920, Energy Loss: -0.056761, Regularizer Loss: 0.021841, Sec/Epoch: 337.55\n",
      "==========================================\n"
     ]
    },
    {
     "name": "stderr",
     "output_type": "stream",
     "text": [
      "100%|█████████████████████████████████████████████████████████████████████████████████████████████████████████████████████████| 28/28 [05:27<00:00, 11.70s/it]\n"
     ]
    },
    {
     "name": "stdout",
     "output_type": "stream",
     "text": [
      "Saving checkpoint at epoch  7\n",
      "==========================================\n",
      "Epoch: 007, Loss: -0.040059, Energy Loss: -0.062959, Regularizer Loss: 0.022900, Sec/Epoch: 327.54\n",
      "==========================================\n"
     ]
    },
    {
     "name": "stderr",
     "output_type": "stream",
     "text": [
      "100%|█████████████████████████████████████████████████████████████████████████████████████████████████████████████████████████| 28/28 [06:08<00:00, 13.17s/it]\n"
     ]
    },
    {
     "name": "stdout",
     "output_type": "stream",
     "text": [
      "Saving checkpoint at epoch  8\n",
      "==========================================\n",
      "Epoch: 008, Loss: -0.045813, Energy Loss: -0.070011, Regularizer Loss: 0.024198, Sec/Epoch: 368.71\n",
      "==========================================\n"
     ]
    },
    {
     "name": "stderr",
     "output_type": "stream",
     "text": [
      "100%|█████████████████████████████████████████████████████████████████████████████████████████████████████████████████████████| 28/28 [05:40<00:00, 12.16s/it]\n"
     ]
    },
    {
     "name": "stdout",
     "output_type": "stream",
     "text": [
      "Saving checkpoint at epoch  9\n",
      "==========================================\n",
      "Epoch: 009, Loss: -0.052286, Energy Loss: -0.078101, Regularizer Loss: 0.025815, Sec/Epoch: 340.50\n",
      "==========================================\n"
     ]
    },
    {
     "name": "stderr",
     "output_type": "stream",
     "text": [
      "100%|█████████████████████████████████████████████████████████████████████████████████████████████████████████████████████████| 28/28 [05:35<00:00, 11.98s/it]\n"
     ]
    },
    {
     "name": "stdout",
     "output_type": "stream",
     "text": [
      "Saving checkpoint at epoch  10\n",
      "==========================================\n",
      "Epoch: 010, Loss: -0.059653, Energy Loss: -0.087536, Regularizer Loss: 0.027884, Sec/Epoch: 335.42\n",
      "==========================================\n"
     ]
    },
    {
     "name": "stderr",
     "output_type": "stream",
     "text": [
      "100%|█████████████████████████████████████████████████████████████████████████████████████████████████████████████████████████| 28/28 [06:24<00:00, 13.75s/it]\n"
     ]
    },
    {
     "name": "stdout",
     "output_type": "stream",
     "text": [
      "Saving checkpoint at epoch  11\n",
      "==========================================\n",
      "Epoch: 011, Loss: -0.068195, Energy Loss: -0.098816, Regularizer Loss: 0.030622, Sec/Epoch: 384.91\n",
      "==========================================\n"
     ]
    },
    {
     "name": "stderr",
     "output_type": "stream",
     "text": [
      "100%|█████████████████████████████████████████████████████████████████████████████████████████████████████████████████████████| 28/28 [05:51<00:00, 12.57s/it]\n"
     ]
    },
    {
     "name": "stdout",
     "output_type": "stream",
     "text": [
      "Saving checkpoint at epoch  12\n",
      "==========================================\n",
      "Epoch: 012, Loss: -0.078321, Energy Loss: -0.112717, Regularizer Loss: 0.034396, Sec/Epoch: 351.92\n",
      "==========================================\n"
     ]
    },
    {
     "name": "stderr",
     "output_type": "stream",
     "text": [
      "100%|█████████████████████████████████████████████████████████████████████████████████████████████████████████████████████████| 28/28 [05:27<00:00, 11.71s/it]\n"
     ]
    },
    {
     "name": "stdout",
     "output_type": "stream",
     "text": [
      "Saving checkpoint at epoch  13\n",
      "==========================================\n",
      "Epoch: 013, Loss: -0.090560, Energy Loss: -0.130365, Regularizer Loss: 0.039805, Sec/Epoch: 327.96\n",
      "==========================================\n"
     ]
    },
    {
     "name": "stderr",
     "output_type": "stream",
     "text": [
      "100%|█████████████████████████████████████████████████████████████████████████████████████████████████████████████████████████| 28/28 [06:24<00:00, 13.74s/it]\n"
     ]
    },
    {
     "name": "stdout",
     "output_type": "stream",
     "text": [
      "Saving checkpoint at epoch  14\n",
      "==========================================\n",
      "Epoch: 014, Loss: -0.105430, Energy Loss: -0.153217, Regularizer Loss: 0.047787, Sec/Epoch: 384.84\n",
      "==========================================\n"
     ]
    },
    {
     "name": "stderr",
     "output_type": "stream",
     "text": [
      "100%|█████████████████████████████████████████████████████████████████████████████████████████████████████████████████████████| 28/28 [05:39<00:00, 12.12s/it]\n"
     ]
    },
    {
     "name": "stdout",
     "output_type": "stream",
     "text": [
      "Saving checkpoint at epoch  15\n",
      "==========================================\n",
      "Epoch: 015, Loss: -0.123113, Energy Loss: -0.182761, Regularizer Loss: 0.059648, Sec/Epoch: 339.49\n",
      "==========================================\n"
     ]
    },
    {
     "name": "stderr",
     "output_type": "stream",
     "text": [
      "100%|█████████████████████████████████████████████████████████████████████████████████████████████████████████████████████████| 28/28 [05:39<00:00, 12.13s/it]\n"
     ]
    },
    {
     "name": "stdout",
     "output_type": "stream",
     "text": [
      "Saving checkpoint at epoch  16\n",
      "==========================================\n",
      "Epoch: 016, Loss: -0.142944, Energy Loss: -0.219776, Regularizer Loss: 0.076831, Sec/Epoch: 339.65\n",
      "==========================================\n"
     ]
    },
    {
     "name": "stderr",
     "output_type": "stream",
     "text": [
      "100%|█████████████████████████████████████████████████████████████████████████████████████████████████████████████████████████| 28/28 [06:04<00:00, 13.02s/it]\n"
     ]
    },
    {
     "name": "stdout",
     "output_type": "stream",
     "text": [
      "Saving checkpoint at epoch  17\n",
      "==========================================\n",
      "Epoch: 017, Loss: -0.163119, Energy Loss: -0.263291, Regularizer Loss: 0.100172, Sec/Epoch: 364.70\n",
      "==========================================\n"
     ]
    },
    {
     "name": "stderr",
     "output_type": "stream",
     "text": [
      "100%|█████████████████████████████████████████████████████████████████████████████████████████████████████████████████████████| 28/28 [05:25<00:00, 11.63s/it]\n"
     ]
    },
    {
     "name": "stdout",
     "output_type": "stream",
     "text": [
      "Saving checkpoint at epoch  18\n",
      "==========================================\n",
      "Epoch: 018, Loss: -0.181188, Energy Loss: -0.309915, Regularizer Loss: 0.128728, Sec/Epoch: 325.76\n",
      "==========================================\n"
     ]
    },
    {
     "name": "stderr",
     "output_type": "stream",
     "text": [
      "100%|█████████████████████████████████████████████████████████████████████████████████████████████████████████████████████████| 28/28 [06:47<00:00, 14.56s/it]\n"
     ]
    },
    {
     "name": "stdout",
     "output_type": "stream",
     "text": [
      "Saving checkpoint at epoch  19\n",
      "==========================================\n",
      "Epoch: 019, Loss: -0.195362, Energy Loss: -0.354553, Regularizer Loss: 0.159192, Sec/Epoch: 407.75\n",
      "==========================================\n"
     ]
    },
    {
     "name": "stderr",
     "output_type": "stream",
     "text": [
      "100%|█████████████████████████████████████████████████████████████████████████████████████████████████████████████████████████| 28/28 [06:54<00:00, 14.82s/it]"
     ]
    },
    {
     "name": "stdout",
     "output_type": "stream",
     "text": [
      "Saving checkpoint at epoch  20\n",
      "==========================================\n",
      "Epoch: 020, Loss: -0.205467, Energy Loss: -0.392523, Regularizer Loss: 0.187056, Sec/Epoch: 414.83\n",
      "==========================================\n"
     ]
    },
    {
     "name": "stderr",
     "output_type": "stream",
     "text": [
      "\n"
     ]
    }
   ],
   "source": [
    "graphebm.train_rand_gen(train_dataloader, lr=1e-4, wd=0, max_epochs=20, c=0, ld_step=150, ld_noise=0.005, ld_step_size=30, clamp=True, alpha=1, save_interval=1, save_dir='./checkpoints')"
   ]
  },
  {
   "cell_type": "code",
   "execution_count": null,
   "id": "Uuu14pDRfB3W",
   "metadata": {
    "colab": {
     "base_uri": "https://localhost:8080/"
    },
    "id": "Uuu14pDRfB3W",
    "outputId": "46b7d447-e669-493a-ab00-11c447e1b1e5"
   },
   "outputs": [],
   "source": [
    "### Ignore info output by RDKit\n",
    "RDLogger.DisableLog('rdApp.error') \n",
    "RDLogger.DisableLog('rdApp.warning')\n",
    "\n",
    "atomic_num_list = dataset.atom_list  # [6, 7, 8, 9, 15, 16, 17, 35, 53, 0] for ZINC250k\n",
    "#gen_mols = graphebm.run_rand_gen(checkpoint_path='./GraphEBM_zinc250k_uncond.pt', n_samples=10000, c=0, ld_step=150, ld_noise=0.005, ld_step_size=30, clamp=True, atomic_num_list=atomic_num_list)\n",
    "gen_mols = graphebm.run_rand_gen(checkpoint_path='./checkpoints/epoch_20.pt', n_samples=10000, c=0, ld_step=150, ld_noise=0.005, ld_step_size=30, clamp=True, atomic_num_list=atomic_num_list)"
   ]
  },
  {
   "cell_type": "code",
   "execution_count": null,
   "id": "PksyqfeufFCf",
   "metadata": {
    "colab": {
     "base_uri": "https://localhost:8080/"
    },
    "id": "PksyqfeufFCf",
    "outputId": "ef8946e2-1418-498e-f74b-70e010aaba12"
   },
   "outputs": [],
   "source": [
    "train_smiles = [data.smile for data in dataset[splits['train_idx']]]\n",
    "res_dict = {'mols':gen_mols, 'train_smiles': train_smiles}\n",
    "evaluator = RandGenEvaluator()\n",
    "results = evaluator.eval(res_dict)\n",
    "print(results)"
   ]
  },
  {
   "cell_type": "code",
   "execution_count": null,
   "id": "9ed50524-c88b-417e-b309-62cce6964989",
   "metadata": {},
   "outputs": [
    {
     "name": "stderr",
     "output_type": "stream",
     "text": [
      "/mnt/infonas/data/pritish/virtualenvs/bee/lib/python3.8/site-packages/torch/cuda/__init__.py:145: UserWarning: \n",
      "NVIDIA RTX A6000 with CUDA capability sm_86 is not compatible with the current PyTorch installation.\n",
      "The current PyTorch install supports CUDA capabilities sm_37 sm_50 sm_60 sm_70.\n",
      "If you want to use the NVIDIA RTX A6000 GPU with PyTorch, please check the instructions at https://pytorch.org/get-started/locally/\n",
      "\n",
      "  warnings.warn(incompatible_device_warn.format(device_name, capability, \" \".join(arch_list), device_name))\n"
     ]
    },
    {
     "name": "stdout",
     "output_type": "stream",
     "text": [
      "Starting train run with alpha=0.3\n"
     ]
    },
    {
     "name": "stderr",
     "output_type": "stream",
     "text": [
      "100%|█████████████████████████████████████████████████████████████████████████████████████████████████████████████████████████| 28/28 [05:31<00:00, 11.85s/it]\n"
     ]
    },
    {
     "name": "stdout",
     "output_type": "stream",
     "text": [
      "Saving checkpoint at epoch  1\n",
      "==========================================\n",
      "Epoch: 001, Loss: 43.414684, Energy Loss: -3.477420, Regularizer Loss: 156.306961, Sec/Epoch: 331.82\n",
      "==========================================\n"
     ]
    },
    {
     "name": "stderr",
     "output_type": "stream",
     "text": [
      "100%|█████████████████████████████████████████████████████████████████████████████████████████████████████████████████████████| 28/28 [05:32<00:00, 11.89s/it]\n"
     ]
    },
    {
     "name": "stdout",
     "output_type": "stream",
     "text": [
      "Saving checkpoint at epoch  2\n",
      "==========================================\n",
      "Epoch: 002, Loss: -0.023814, Energy Loss: -0.026400, Regularizer Loss: 0.008620, Sec/Epoch: 333.01\n",
      "==========================================\n"
     ]
    },
    {
     "name": "stderr",
     "output_type": "stream",
     "text": [
      "100%|█████████████████████████████████████████████████████████████████████████████████████████████████████████████████████████| 28/28 [05:35<00:00, 11.98s/it]\n"
     ]
    },
    {
     "name": "stdout",
     "output_type": "stream",
     "text": [
      "Saving checkpoint at epoch  3\n",
      "==========================================\n",
      "Epoch: 003, Loss: -0.033519, Energy Loss: -0.036564, Regularizer Loss: 0.010152, Sec/Epoch: 335.45\n",
      "==========================================\n"
     ]
    },
    {
     "name": "stderr",
     "output_type": "stream",
     "text": [
      "100%|█████████████████████████████████████████████████████████████████████████████████████████████████████████████████████████| 28/28 [07:30<00:00, 16.10s/it]\n"
     ]
    },
    {
     "name": "stdout",
     "output_type": "stream",
     "text": [
      "Saving checkpoint at epoch  4\n",
      "==========================================\n",
      "Epoch: 004, Loss: -0.045546, Energy Loss: -0.049238, Regularizer Loss: 0.012309, Sec/Epoch: 450.87\n",
      "==========================================\n"
     ]
    },
    {
     "name": "stderr",
     "output_type": "stream",
     "text": [
      "100%|█████████████████████████████████████████████████████████████████████████████████████████████████████████████████████████| 28/28 [07:03<00:00, 15.14s/it]\n"
     ]
    },
    {
     "name": "stdout",
     "output_type": "stream",
     "text": [
      "Saving checkpoint at epoch  5\n",
      "==========================================\n",
      "Epoch: 005, Loss: -0.059669, Energy Loss: -0.064234, Regularizer Loss: 0.015216, Sec/Epoch: 423.94\n",
      "==========================================\n"
     ]
    },
    {
     "name": "stderr",
     "output_type": "stream",
     "text": [
      "100%|█████████████████████████████████████████████████████████████████████████████████████████████████████████████████████████| 28/28 [05:27<00:00, 11.70s/it]\n"
     ]
    },
    {
     "name": "stdout",
     "output_type": "stream",
     "text": [
      "Saving checkpoint at epoch  6\n",
      "==========================================\n",
      "Epoch: 006, Loss: -0.075892, Energy Loss: -0.081612, Regularizer Loss: 0.019069, Sec/Epoch: 327.63\n",
      "==========================================\n"
     ]
    },
    {
     "name": "stderr",
     "output_type": "stream",
     "text": [
      "100%|█████████████████████████████████████████████████████████████████████████████████████████████████████████████████████████| 28/28 [05:55<00:00, 12.70s/it]\n"
     ]
    },
    {
     "name": "stdout",
     "output_type": "stream",
     "text": [
      "Saving checkpoint at epoch  7\n",
      "==========================================\n",
      "Epoch: 007, Loss: -0.094421, Energy Loss: -0.101671, Regularizer Loss: 0.024166, Sec/Epoch: 355.52\n",
      "==========================================\n"
     ]
    },
    {
     "name": "stderr",
     "output_type": "stream",
     "text": [
      "100%|█████████████████████████████████████████████████████████████████████████████████████████████████████████████████████████| 28/28 [05:30<00:00, 11.82s/it]\n"
     ]
    },
    {
     "name": "stdout",
     "output_type": "stream",
     "text": [
      "Saving checkpoint at epoch  8\n",
      "==========================================\n",
      "Epoch: 008, Loss: -0.115737, Energy Loss: -0.125035, Regularizer Loss: 0.030993, Sec/Epoch: 330.97\n",
      "==========================================\n"
     ]
    },
    {
     "name": "stderr",
     "output_type": "stream",
     "text": [
      "100%|█████████████████████████████████████████████████████████████████████████████████████████████████████████████████████████| 28/28 [05:47<00:00, 12.41s/it]\n"
     ]
    },
    {
     "name": "stdout",
     "output_type": "stream",
     "text": [
      "Saving checkpoint at epoch  9\n",
      "==========================================\n",
      "Epoch: 009, Loss: -0.140730, Energy Loss: -0.152849, Regularizer Loss: 0.040398, Sec/Epoch: 347.45\n",
      "==========================================\n"
     ]
    },
    {
     "name": "stderr",
     "output_type": "stream",
     "text": [
      "100%|█████████████████████████████████████████████████████████████████████████████████████████████████████████████████████████| 28/28 [07:15<00:00, 15.57s/it]\n"
     ]
    },
    {
     "name": "stdout",
     "output_type": "stream",
     "text": [
      "Saving checkpoint at epoch  10\n",
      "==========================================\n",
      "Epoch: 010, Loss: -0.170964, Energy Loss: -0.187152, Regularizer Loss: 0.053959, Sec/Epoch: 435.95\n",
      "==========================================\n"
     ]
    },
    {
     "name": "stderr",
     "output_type": "stream",
     "text": [
      "100%|█████████████████████████████████████████████████████████████████████████████████████████████████████████████████████████| 28/28 [06:05<00:00, 13.06s/it]\n"
     ]
    },
    {
     "name": "stdout",
     "output_type": "stream",
     "text": [
      "Saving checkpoint at epoch  11\n",
      "==========================================\n",
      "Epoch: 011, Loss: -0.209044, Energy Loss: -0.231476, Regularizer Loss: 0.074773, Sec/Epoch: 365.60\n",
      "==========================================\n"
     ]
    },
    {
     "name": "stderr",
     "output_type": "stream",
     "text": [
      "100%|█████████████████████████████████████████████████████████████████████████████████████████████████████████████████████████| 28/28 [05:30<00:00, 11.82s/it]\n"
     ]
    },
    {
     "name": "stdout",
     "output_type": "stream",
     "text": [
      "Saving checkpoint at epoch  12\n",
      "==========================================\n",
      "Epoch: 012, Loss: -0.258887, Energy Loss: -0.291600, Regularizer Loss: 0.109041, Sec/Epoch: 330.85\n",
      "==========================================\n"
     ]
    },
    {
     "name": "stderr",
     "output_type": "stream",
     "text": [
      "100%|█████████████████████████████████████████████████████████████████████████████████████████████████████████████████████████| 28/28 [05:27<00:00, 11.69s/it]\n"
     ]
    },
    {
     "name": "stdout",
     "output_type": "stream",
     "text": [
      "Saving checkpoint at epoch  13\n",
      "==========================================\n",
      "Epoch: 013, Loss: -0.325263, Energy Loss: -0.375927, Regularizer Loss: 0.168881, Sec/Epoch: 327.44\n",
      "==========================================\n"
     ]
    },
    {
     "name": "stderr",
     "output_type": "stream",
     "text": [
      "100%|█████████████████████████████████████████████████████████████████████████████████████████████████████████████████████████| 28/28 [06:48<00:00, 14.58s/it]\n"
     ]
    },
    {
     "name": "stdout",
     "output_type": "stream",
     "text": [
      "Saving checkpoint at epoch  14\n",
      "==========================================\n",
      "Epoch: 014, Loss: -0.411609, Energy Loss: -0.494472, Regularizer Loss: 0.276210, Sec/Epoch: 408.11\n",
      "==========================================\n"
     ]
    },
    {
     "name": "stderr",
     "output_type": "stream",
     "text": [
      "100%|█████████████████████████████████████████████████████████████████████████████████████████████████████████████████████████| 28/28 [06:58<00:00, 14.95s/it]\n"
     ]
    },
    {
     "name": "stdout",
     "output_type": "stream",
     "text": [
      "Saving checkpoint at epoch  15\n",
      "==========================================\n",
      "Epoch: 015, Loss: -0.515581, Energy Loss: -0.654889, Regularizer Loss: 0.464363, Sec/Epoch: 418.67\n",
      "==========================================\n"
     ]
    },
    {
     "name": "stderr",
     "output_type": "stream",
     "text": [
      "100%|█████████████████████████████████████████████████████████████████████████████████████████████████████████████████████████| 28/28 [05:26<00:00, 11.66s/it]\n"
     ]
    },
    {
     "name": "stdout",
     "output_type": "stream",
     "text": [
      "Saving checkpoint at epoch  16\n",
      "==========================================\n",
      "Epoch: 016, Loss: -0.624697, Energy Loss: -0.854938, Regularizer Loss: 0.767472, Sec/Epoch: 326.41\n",
      "==========================================\n"
     ]
    },
    {
     "name": "stderr",
     "output_type": "stream",
     "text": [
      " 64%|█████████████████████████████████████████████████████████████████████████████▊                                           | 18/28 [03:48<02:10, 13.08s/it]"
     ]
    }
   ],
   "source": [
    "# Test for various values of regularizer coefficient.\n",
    "# 4 values of lambda: 400 minutes roughly.\n",
    "atomic_num_list = dataset.atom_list  # [6, 7, 8, 9, 15, 16, 17, 35, 53, 0] for ZINC250k\n",
    "train_smiles = [data.smile for data in dataset[splits['train_idx']]]\n",
    "\n",
    "graphebm = GraphEBM(n_atom=38, n_atom_type=10, n_edge_type=4, hidden=64, device=device)\n",
    "\n",
    "#for alpha in [0.1, 0.3, 0.7, 0.9]:\n",
    "for alpha in [0.3, 0.7, 0.9]:\n",
    "    print(f\"Starting train run with alpha={alpha}\")\n",
    "    graphebm.train_rand_gen(train_dataloader, lr=1e-4, wd=0, max_epochs=20, c=0, ld_step=150, ld_noise=0.005, ld_step_size=30, clamp=True, alpha=alpha, save_interval=1, save_dir=f'./checkpoints_alpha_{alpha}')"
   ]
  },
  {
   "cell_type": "code",
   "execution_count": null,
   "id": "7019b7f7-29c0-4f95-ba6d-a1b0cce3aef8",
   "metadata": {},
   "outputs": [],
   "source": [
    "test_results = {}\n",
    "import pickle\n",
    "\n",
    "# The original goal was to perform a grid search (or something more advanced) over the regularization coefficient and the learning rate.\n",
    "# However, due to speed (Colab) and other issues, we had to restrict ourselves to a simple search over the\n",
    "# regularization parameter in the interest of time.\n",
    "for alpha in [0.1, 0.3, 0.7, 0.9]:\n",
    "    gen_mols = graphebm.run_rand_gen(checkpoint_path=f'./checkpoints_alpha_{alpha}/epoch_20.pt', n_samples=10000, c=0, ld_step=150, ld_noise=0.005, ld_step_size=30, clamp=True, atomic_num_list=atomic_num_list)\n",
    "    res_dict = {'mols':gen_mols, 'train_smiles': train_smiles}\n",
    "    evaluator = RandGenEvaluator()\n",
    "    results = evaluator.eval(res_dict)\n",
    "    test_results[alpha] = results\n",
    "    \n",
    "    with open(\"hyperparam_test.pickle\", \"wb\") as fp:\n",
    "        pickle.dump(fp, test_results)\n",
    "\n",
    "print(test_results)"
   ]
  },
  {
   "cell_type": "code",
   "execution_count": null,
   "id": "ce04587e-9862-41cc-a0c8-9b668b31da8f",
   "metadata": {},
   "outputs": [],
   "source": []
  }
 ],
 "metadata": {
  "accelerator": "GPU",
  "colab": {
   "collapsed_sections": [],
   "machine_shape": "hm",
   "name": "GraphEBM: Attempt at Hyperparameter Search.ipynb",
   "provenance": []
  },
  "kernelspec": {
   "display_name": "Python 3 (ipykernel)",
   "language": "python",
   "name": "python3"
  },
  "language_info": {
   "codemirror_mode": {
    "name": "ipython",
    "version": 3
   },
   "file_extension": ".py",
   "mimetype": "text/x-python",
   "name": "python",
   "nbconvert_exporter": "python",
   "pygments_lexer": "ipython3",
   "version": "3.8.10"
  }
 },
 "nbformat": 4,
 "nbformat_minor": 5
}
